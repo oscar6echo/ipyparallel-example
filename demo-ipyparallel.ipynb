{
 "cells": [
  {
   "cell_type": "code",
   "execution_count": 1,
   "metadata": {},
   "outputs": [],
   "source": [
    "%load_ext autoreload\n",
    "%autoreload 2"
   ]
  },
  {
   "cell_type": "code",
   "execution_count": 2,
   "metadata": {},
   "outputs": [
    {
     "data": {
      "text/plain": [
       "(6, 2, 4)"
      ]
     },
     "execution_count": 2,
     "metadata": {},
     "output_type": "execute_result"
    }
   ],
   "source": [
    "import ipyparallel as ipp\n",
    "ipp.version_info"
   ]
  },
  {
   "cell_type": "code",
   "execution_count": 3,
   "metadata": {},
   "outputs": [],
   "source": [
    "from setup_ipyparallel import SetupIpp\n",
    "from my_package import BuildData, Compute, Collect, runtime, timer, file_content"
   ]
  },
  {
   "cell_type": "markdown",
   "metadata": {},
   "source": [
    "## Introduction\n",
    "This notebook and companion packages illustrate a possible use of [ipyparallel](https://ipyparallel.readthedocs.io/en/latest/index.html) with a contrived but simple example."
   ]
  },
  {
   "cell_type": "markdown",
   "metadata": {},
   "source": [
    "## Config"
   ]
  },
  {
   "cell_type": "code",
   "execution_count": 4,
   "metadata": {},
   "outputs": [],
   "source": [
    "shared_dir = '/Users/Olivier/Documents/temp/ipp/demo'\n",
    "\n",
    "folder_in = 'sample-data'\n",
    "folder_out = 'sample-output'\n",
    "file_in_common = 'common.json'\n",
    "file_in = 'data-{}.json'\n",
    "file_out = 'output-{}.json'\n",
    "\n",
    "N = 8*5 # nb cores\n",
    "list_id = [e for e in range(N)]"
   ]
  },
  {
   "cell_type": "markdown",
   "metadata": {},
   "source": [
    "## Data\n",
    "\n",
    "Random. This is a demo."
   ]
  },
  {
   "cell_type": "code",
   "execution_count": 5,
   "metadata": {},
   "outputs": [
    {
     "name": "stdout",
     "output_type": "stream",
     "text": [
      "create 40 files of integers between 0 and 1000\n",
      "delete existing folder /Users/Olivier/Documents/temp/ipp/demo/sample-data\n",
      "create folder /Users/Olivier/Documents/temp/ipp/demo/sample-data\n",
      "create file common.json (with offset=3) in folder /Users/Olivier/Documents/temp/ipp/demo/sample-data\n",
      "\tcommon.json\n",
      "create 40 files in folder /Users/Olivier/Documents/temp/ipp/demo/sample-data\n",
      "\tdata-0.json\n",
      "\tdata-1.json\n",
      "\tdata-2.json\n",
      "\tdata-3.json\n",
      "\tdata-4.json\n",
      "\tdata-5.json\n",
      "\tdata-6.json\n",
      "\tdata-7.json\n",
      "\tdata-8.json\n",
      "\tdata-9.json\n",
      "\tdata-10.json\n",
      "\tdata-11.json\n",
      "\tdata-12.json\n",
      "\tdata-13.json\n",
      "\tdata-14.json\n",
      "\tdata-15.json\n",
      "\tdata-16.json\n",
      "\tdata-17.json\n",
      "\tdata-18.json\n",
      "\tdata-19.json\n",
      "\tdata-20.json\n",
      "\tdata-21.json\n",
      "\tdata-22.json\n",
      "\tdata-23.json\n",
      "\tdata-24.json\n",
      "\tdata-25.json\n",
      "\tdata-26.json\n",
      "\tdata-27.json\n",
      "\tdata-28.json\n",
      "\tdata-29.json\n",
      "\tdata-30.json\n",
      "\tdata-31.json\n",
      "\tdata-32.json\n",
      "\tdata-33.json\n",
      "\tdata-34.json\n",
      "\tdata-35.json\n",
      "\tdata-36.json\n",
      "\tdata-37.json\n",
      "\tdata-38.json\n",
      "\tdata-39.json\n"
     ]
    }
   ],
   "source": [
    "b = BuildData(shared_dir, N)\n",
    "b.run()"
   ]
  },
  {
   "cell_type": "markdown",
   "metadata": {},
   "source": [
    "## Sequential\n",
    "  \n",
    "Compute the average of each data chunk sequentially, adding the same offset to each.  \n",
    "Here we pretend computing the average of a list of numbers is expensive by adding a 1s delay.  \n",
    "The offset is just there to illustrate how to pass parameters.  \n",
    "Input files are those created above.  \n",
    "Output is both returned and saved on disk.  \n",
    "Then gather all results and compute their average: the final result.  \n",
    "It should be near 500+offset since the input numbers are random integers between zero and 1000."
   ]
  },
  {
   "cell_type": "code",
   "execution_count": 6,
   "metadata": {},
   "outputs": [
    {
     "name": "stdout",
     "output_type": "stream",
     "text": [
      "1 2 3 4 5 6 7 8 9 10 11 12 13 14 15 16 17 18 19 20 21 22 23 24 25 26 27 28 29 30 31 32 33 34 35 36 37 38 39 40 \n",
      "runtime = 42.09 s\n"
     ]
    }
   ],
   "source": [
    "t0 = timer()\n",
    "for k in list_id:\n",
    "    print(1+k, end=' ')\n",
    "    c = Compute(k, \n",
    "                shared_dir, folder_in, folder_out,\n",
    "                file_in_common, file_in, file_out,\n",
    "                verbose=False)\n",
    "    c.setup()\n",
    "    c.run()\n",
    "    c.save()\n",
    "t1 = timer()\n",
    "runtime(t0, t1)  "
   ]
  },
  {
   "cell_type": "code",
   "execution_count": 8,
   "metadata": {},
   "outputs": [
    {
     "name": "stdout",
     "output_type": "stream",
     "text": [
      "collecting 40 files\n"
     ]
    },
    {
     "data": {
      "text/plain": [
       "503.50322500000004"
      ]
     },
     "execution_count": 8,
     "metadata": {},
     "output_type": "execute_result"
    }
   ],
   "source": [
    "c = Collect(list_id, shared_dir, folder_out, file_out, verbose=True)\n",
    "res_seq = c.run()\n",
    "res_seq"
   ]
  },
  {
   "cell_type": "markdown",
   "metadata": {},
   "source": [
    "## Go parallel\n",
    "Now if you have several cores available on your or other machines, you can parallel the computation.  \n",
    "Hopefully the runtime will be divided by the number of cores."
   ]
  },
  {
   "cell_type": "markdown",
   "metadata": {},
   "source": [
    "## Create Cluster\n",
    "+ Make sure main and remote machines have access to shared directory on disk - where controller writes cluster info.\n",
    "+ Copy/paste following commands in terminal - or run script from shared folder\n",
    "+ Start controller on main machine\n",
    "+ Start engines on main machine\n",
    "+ Start engines on remote machine(s)"
   ]
  },
  {
   "cell_type": "code",
   "execution_count": 9,
   "metadata": {},
   "outputs": [
    {
     "name": "stdout",
     "output_type": "stream",
     "text": [
      "create ipyparallel scripts in /Users/Olivier/Documents/temp/ipp/demo\n",
      "\tlaunch_controller.sh\n",
      "\tlaunch_engine-6.sh\n",
      "\tlaunch_engine-7.sh\n",
      "\tlaunch_engine-8.sh\n",
      "copy 1 local packages to /Users/Olivier/Documents/temp/ipp/demo\n",
      "\tmy_package\n"
     ]
    }
   ],
   "source": [
    "cluster_id = 'demo'\n",
    "s = SetupIpp(shared_dir, cluster_id, nb_core=[6,7,8], local_packages=['my_package'])\n",
    "s.run()"
   ]
  },
  {
   "cell_type": "markdown",
   "metadata": {},
   "source": [
    "## Run ipyparallel scripts\n",
    "+ **First** launch controller\n",
    "+ **Then** launch engine scripts on as one or more machines"
   ]
  },
  {
   "cell_type": "code",
   "execution_count": 10,
   "metadata": {},
   "outputs": [],
   "source": [
    "# from terminal"
   ]
  },
  {
   "cell_type": "markdown",
   "metadata": {},
   "source": [
    "## Audit ipp files\n",
    "+ client file\n",
    "+ engine file"
   ]
  },
  {
   "cell_type": "code",
   "execution_count": 11,
   "metadata": {},
   "outputs": [
    {
     "name": "stdout",
     "output_type": "stream",
     "text": [
      "/Users/Olivier/Documents/temp/ipp/demo/profile_default/security/ipcontroller-demo-client.json\n",
      "{\n",
      "  \"ssh\": \"\",\n",
      "  \"interface\": \"tcp://*\",\n",
      "  \"registration\": 62873,\n",
      "  \"control\": 62874,\n",
      "  \"mux\": 62876,\n",
      "  \"task\": 62880,\n",
      "  \"task_scheme\": \"leastload\",\n",
      "  \"iopub\": 62882,\n",
      "  \"notification\": 62884,\n",
      "  \"key\": \"90a9f3d5-54b0cb9d6a0ca89d108caf2d\",\n",
      "  \"location\": \"Central\",\n",
      "  \"pack\": \"json\",\n",
      "  \"unpack\": \"json\",\n",
      "  \"signature_scheme\": \"hmac-sha256\"\n",
      "}\n",
      "/Users/Olivier/Documents/temp/ipp/demo/profile_default/security/ipcontroller-demo-engine.json\n",
      "{\n",
      "  \"ssh\": \"\",\n",
      "  \"interface\": \"tcp://*\",\n",
      "  \"registration\": 62873,\n",
      "  \"control\": 62875,\n",
      "  \"mux\": 62877,\n",
      "  \"hb_ping\": 62878,\n",
      "  \"hb_pong\": 62879,\n",
      "  \"task\": 62881,\n",
      "  \"iopub\": 62883,\n",
      "  \"key\": \"90a9f3d5-54b0cb9d6a0ca89d108caf2d\",\n",
      "  \"location\": \"Central\",\n",
      "  \"pack\": \"json\",\n",
      "  \"unpack\": \"json\",\n",
      "  \"signature_scheme\": \"hmac-sha256\"\n",
      "}\n"
     ]
    }
   ],
   "source": [
    "radical = shared_dir+'/profile_default/security/ipcontroller-'+cluster_id\n",
    "client_file = f'{radical}-client.json'\n",
    "engine_file = f'{radical}-engine.json'\n",
    "    \n",
    "\n",
    "file_content(client_file)\n",
    "file_content(engine_file)"
   ]
  },
  {
   "cell_type": "markdown",
   "metadata": {},
   "source": [
    "## Init parallel"
   ]
  },
  {
   "cell_type": "code",
   "execution_count": 12,
   "metadata": {},
   "outputs": [
    {
     "name": "stdout",
     "output_type": "stream",
     "text": [
      "[0, 1, 2, 3, 4, 5, 6]\n",
      "False\n"
     ]
    }
   ],
   "source": [
    "rc = ipp.Client(client_file)\n",
    "dv = rc[:] # direct view\n",
    "lbv = rc.load_balanced_view() # load balanced view\n",
    "\n",
    "print(rc.ids)\n",
    "print(lbv.block)"
   ]
  },
  {
   "cell_type": "markdown",
   "metadata": {},
   "source": [
    "## Push data to engines"
   ]
  },
  {
   "cell_type": "code",
   "execution_count": 13,
   "metadata": {},
   "outputs": [
    {
     "data": {
      "text/plain": [
       "<AsyncResult: _push>"
      ]
     },
     "execution_count": 13,
     "metadata": {},
     "output_type": "execute_result"
    }
   ],
   "source": [
    "dv.push({\n",
    "    'shared_dir': shared_dir,\n",
    "    'folder_in': folder_in,\n",
    "    'folder_out': folder_out,\n",
    "    'file_in_common': file_in_common,\n",
    "    'file_in': file_in,\n",
    "    'file_out': file_out,\n",
    "})"
   ]
  },
  {
   "cell_type": "markdown",
   "metadata": {},
   "source": [
    "## Engine functions"
   ]
  },
  {
   "cell_type": "code",
   "execution_count": 15,
   "metadata": {},
   "outputs": [],
   "source": [
    "%%px --local\n",
    "\n",
    "import numpy as np\n",
    "\n",
    "from my_package import Compute\n",
    "\n",
    "def compute(k, verbose=False):\n",
    "    c = Compute(k, \n",
    "                shared_dir, folder_in, folder_out,\n",
    "                file_in_common, file_in, file_out,\n",
    "                verbose=verbose\n",
    "               )\n",
    "    c.setup()\n",
    "    res = c.run()\n",
    "    c.save()\n",
    "    return res\n",
    "\n",
    "def wrap_compute(k):\n",
    "    res = compute(k)\n",
    "    return res\n",
    "    "
   ]
  },
  {
   "cell_type": "markdown",
   "metadata": {},
   "source": [
    "## Local test run"
   ]
  },
  {
   "cell_type": "code",
   "execution_count": 16,
   "metadata": {},
   "outputs": [
    {
     "name": "stdout",
     "output_type": "stream",
     "text": [
      "start setup id=0\n",
      "start run id=0\n",
      "end run id=0 - time=1.00\n",
      "start save id=0\n"
     ]
    },
    {
     "data": {
      "text/plain": [
       "{'base': 3, 'avg': 499.728, 'res': 502.728}"
      ]
     },
     "execution_count": 16,
     "metadata": {},
     "output_type": "execute_result"
    }
   ],
   "source": [
    "compute(0, verbose=True)"
   ]
  },
  {
   "cell_type": "markdown",
   "metadata": {},
   "source": [
    "## Parallel run"
   ]
  },
  {
   "cell_type": "code",
   "execution_count": 17,
   "metadata": {},
   "outputs": [
    {
     "name": "stdout",
     "output_type": "stream",
     "text": [
      "  40/40 tasks finished after    6 s\n",
      "done\n",
      "wall time = 6.62\tserial time = 43.58\tratio = 6.58\n"
     ]
    }
   ],
   "source": [
    "amr = lbv.map_async(wrap_compute, list_id, chuncksize=1)\n",
    "amr.wait_interactive()\n",
    "res = amr.get()\n",
    "\n",
    "print('wall time = {:.2f}\\tserial time = {:.2f}\\tratio = {:.2f}'.format(\n",
    "    amr.wall_time,\n",
    "    amr.serial_time,\n",
    "    amr.serial_time / amr.wall_time)\n",
    ")"
   ]
  },
  {
   "cell_type": "code",
   "execution_count": 18,
   "metadata": {},
   "outputs": [
    {
     "data": {
      "text/plain": [
       "503.50322500000004"
      ]
     },
     "execution_count": 18,
     "metadata": {},
     "output_type": "execute_result"
    }
   ],
   "source": [
    "np.mean([e['res'] for e in res])"
   ]
  },
  {
   "cell_type": "code",
   "execution_count": 19,
   "metadata": {},
   "outputs": [
    {
     "data": {
      "text/plain": [
       "True"
      ]
     },
     "execution_count": 19,
     "metadata": {},
     "output_type": "execute_result"
    }
   ],
   "source": [
    "c = Collect(list_id, shared_dir, folder_out, file_out, verbose=False)\n",
    "res_par = c.run()\n",
    "res_par == res_seq"
   ]
  },
  {
   "cell_type": "code",
   "execution_count": null,
   "metadata": {},
   "outputs": [],
   "source": []
  }
 ],
 "metadata": {
  "kernelspec": {
   "display_name": "work",
   "language": "python",
   "name": "work"
  },
  "language_info": {
   "codemirror_mode": {
    "name": "ipython",
    "version": 3
   },
   "file_extension": ".py",
   "mimetype": "text/x-python",
   "name": "python",
   "nbconvert_exporter": "python",
   "pygments_lexer": "ipython3",
   "version": "3.7.2"
  }
 },
 "nbformat": 4,
 "nbformat_minor": 2
}
